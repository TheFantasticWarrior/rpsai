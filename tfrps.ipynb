{
  "nbformat": 4,
  "nbformat_minor": 0,
  "metadata": {
    "accelerator": "GPU",
    "colab": {
      "name": "tfrps.ipynb",
      "provenance": [],
      "collapsed_sections": [],
      "authorship_tag": "ABX9TyNLh+3x5tDcmQUqz0xZZ/dM"
    },
    "kernelspec": {
      "display_name": "Python 3",
      "name": "python3"
    },
    "language_info": {
      "name": "python"
    }
  },
  "cells": [
    {
      "cell_type": "markdown",
      "metadata": {
        "id": "DbzkiXaxp6AL"
      },
      "source": [
        "# Import&Define"
      ]
    },
    {
      "cell_type": "code",
      "metadata": {
        "id": "DN7ED6b1HbzE"
      },
      "source": [
        "import numpy as np\n",
        "import tensorflow as tf\n",
        "from tensorflow import keras\n",
        "from tensorflow.keras import layers\n",
        "import matplotlib.pyplot as plt\n",
        "import random\n",
        "import pprint\n",
        "import sys"
      ],
      "execution_count": null,
      "outputs": []
    },
    {
      "cell_type": "code",
      "metadata": {
        "id": "mRTQ_HWfCOQ3"
      },
      "source": [
        "l=[\"R\",\"P\",\"S\"]\n",
        "def sf1():\n",
        "  def search(n,dna):\n",
        "    x=[0,0,0]\n",
        "    for i in range(1,len(dna)+1):\n",
        "      c=dna[:-i].count(dna[-i:]+n)\n",
        "      if c==0:\n",
        "        if x:\n",
        "          return x\n",
        "        else:\n",
        "          return 0\n",
        "      else:\n",
        "        if i==1:\n",
        "          x[0]=c\n",
        "        else:\n",
        "          x[1]+=c\n",
        "          x[2]==c\n",
        "  s=[search(str(i),h) for i in range(9)]\n",
        "  a=s[0]+s[3]+s[7] #P\n",
        "  b=s[1]+s[5]+s[8] #R\n",
        "  c=s[2]+s[4]+s[6] #S\n",
        "  return [a,b,c]\n",
        "\n",
        "def sf2():\n",
        "  def search(n,dna):\n",
        "    x=[0,0,0]\n",
        "    for i in range(1,len(dna)+1):\n",
        "      c=dna[:-i].count(dna[-i:]+n)\n",
        "      if c==0:\n",
        "        if x:\n",
        "          return x\n",
        "        else:\n",
        "          return 0\n",
        "      else:\n",
        "        if i==1:\n",
        "          x[0]=c\n",
        "        else:\n",
        "          x[1]+=c\n",
        "          x[2]==c\n",
        "  s=[search(str(i),h) for i in range(9)]\n",
        "  rs=[search(i,rl) for i in [\"R\",\"P\",\"S\"]]\n",
        "  ls=[search(i,ll) for i in [\"R\",\"P\",\"S\"]]\n",
        "  a=s[0]+s[3]+s[7]+rs[1]+ls[1] #P\n",
        "  b=s[1]+s[5]+s[8]+rs[0]+ls[0] #R\n",
        "  c=s[2]+s[4]+s[6]+rs[2]+ls[2] #S\n",
        "  return [a,b,c]"
      ],
      "execution_count": null,
      "outputs": []
    },
    {
      "cell_type": "code",
      "metadata": {
        "colab": {
          "base_uri": "https://localhost:8080/"
        },
        "id": "KEeqsQmQ2GyZ",
        "outputId": "b9b7cfb3-fe7c-4903-e68a-40846fb30c7e"
      },
      "source": [
        "model=keras.Sequential()\n",
        "model.add(layers.Dense(9,input_shape=(27,),activation=\"tanh\"))\n",
        "model.add(layers.LeakyReLU())\n",
        "model.add(layers.Dense(3,activation=\"softmax\"))\n",
        "model.summary()"
      ],
      "execution_count": null,
      "outputs": [
        {
          "output_type": "stream",
          "name": "stdout",
          "text": [
            "Model: \"sequential\"\n",
            "_________________________________________________________________\n",
            " Layer (type)                Output Shape              Param #   \n",
            "=================================================================\n",
            " dense (Dense)               (None, 9)                 252       \n",
            "                                                                 \n",
            " leaky_re_lu (LeakyReLU)     (None, 9)                 0         \n",
            "                                                                 \n",
            " dense_1 (Dense)             (None, 3)                 30        \n",
            "                                                                 \n",
            "=================================================================\n",
            "Total params: 282\n",
            "Trainable params: 282\n",
            "Non-trainable params: 0\n",
            "_________________________________________________________________\n"
          ]
        }
      ]
    },
    {
      "cell_type": "code",
      "metadata": {
        "colab": {
          "base_uri": "https://localhost:8080/"
        },
        "id": "lgz5xTlyWH1r",
        "outputId": "f9fa956b-23a6-4858-f6e3-76f163a2f1a9"
      },
      "source": [
        "nmodel=keras.Sequential()\n",
        "nmodel.add(layers.Dense(9,input_shape=(27,),activation=\"tanh\"))\n",
        "nmodel.add(layers.LeakyReLU())\n",
        "nmodel.set_weights(mw[:2])\n",
        "nmodel.summary()"
      ],
      "execution_count": null,
      "outputs": [
        {
          "output_type": "stream",
          "name": "stdout",
          "text": [
            "Model: \"sequential_9\"\n",
            "_________________________________________________________________\n",
            " Layer (type)                Output Shape              Param #   \n",
            "=================================================================\n",
            " dense_14 (Dense)            (None, 9)                 252       \n",
            "                                                                 \n",
            " leaky_re_lu_7 (LeakyReLU)   (None, 9)                 0         \n",
            "                                                                 \n",
            "=================================================================\n",
            "Total params: 252\n",
            "Trainable params: 252\n",
            "Non-trainable params: 0\n",
            "_________________________________________________________________\n"
          ]
        }
      ]
    },
    {
      "cell_type": "code",
      "metadata": {
        "colab": {
          "base_uri": "https://localhost:8080/"
        },
        "id": "3UZvey19HYJN",
        "outputId": "476550bf-0d42-4a96-8445-2e509641c0fe"
      },
      "source": [
        "lmodel=keras.Sequential()\n",
        "lmodel.add(layers.LSTM(9,input_shape=(None,9),return_sequences=False))\n",
        "lmodel.add(layers.Dense(3,activation=\"softmax\"))\n",
        "lmodel.summary()"
      ],
      "execution_count": null,
      "outputs": [
        {
          "output_type": "stream",
          "name": "stdout",
          "text": [
            "Model: \"sequential_5\"\n",
            "_________________________________________________________________\n",
            " Layer (type)                Output Shape              Param #   \n",
            "=================================================================\n",
            " lstm_2 (LSTM)               (None, 9)                 684       \n",
            "                                                                 \n",
            " dense_10 (Dense)            (None, 3)                 30        \n",
            "                                                                 \n",
            "=================================================================\n",
            "Total params: 714\n",
            "Trainable params: 714\n",
            "Non-trainable params: 0\n",
            "_________________________________________________________________\n"
          ]
        }
      ]
    },
    {
      "cell_type": "code",
      "metadata": {
        "colab": {
          "base_uri": "https://localhost:8080/"
        },
        "id": "9rLJtgdcbQmV",
        "outputId": "d4d98ba5-87de-4481-de52-0dad4cda4f2c"
      },
      "source": [
        "rmodel=keras.Sequential()\n",
        "rmodel.add(layers.Dense(15,input_shape=(45,)))\n",
        "rmodel.add(layers.Dense(6,activation=\"tanh\"))\n",
        "rmodel.add(layers.LeakyReLU())\n",
        "rmodel.add(layers.Dense(3,activation=\"softmax\"))\n",
        "rmodel.summary()"
      ],
      "execution_count": null,
      "outputs": [
        {
          "output_type": "stream",
          "name": "stdout",
          "text": [
            "Model: \"sequential_2\"\n",
            "_________________________________________________________________\n",
            " Layer (type)                Output Shape              Param #   \n",
            "=================================================================\n",
            " dense_3 (Dense)             (None, 15)                690       \n",
            "                                                                 \n",
            " dense_4 (Dense)             (None, 6)                 96        \n",
            "                                                                 \n",
            " leaky_re_lu_1 (LeakyReLU)   (None, 6)                 0         \n",
            "                                                                 \n",
            " dense_5 (Dense)             (None, 3)                 21        \n",
            "                                                                 \n",
            "=================================================================\n",
            "Total params: 807\n",
            "Trainable params: 807\n",
            "Non-trainable params: 0\n",
            "_________________________________________________________________\n"
          ]
        }
      ]
    },
    {
      "cell_type": "code",
      "metadata": {
        "id": "NOYid2bce8Va"
      },
      "source": [
        "optimizer=keras.optimizers.Adam(0.001)\n",
        "loss_fn=keras.losses.SparseCategoricalCrossentropy()\n",
        "loss_vs=keras.losses.SparseCategoricalCrossentropy()\n",
        "train_metric=keras.metrics.SparseTopKCategoricalAccuracy(k=1)\n",
        "two_metric=keras.metrics.SparseTopKCategoricalAccuracy(k=2)\n",
        "confidence_metric=keras.metrics.SparseTopKCategoricalAccuracy(k=1)"
      ],
      "execution_count": null,
      "outputs": []
    },
    {
      "cell_type": "code",
      "metadata": {
        "id": "rmSwqkgixgv-"
      },
      "source": [
        "def train_vs(model,x,y):\n",
        "  global count\n",
        "  with tf.GradientTape() as tape:\n",
        "    logits=model(x,training=True)\n",
        "    loss_value=loss_vs(y,logits)\n",
        "\n",
        "  train_metric.update_state([y],[logits])\n",
        "  two_metric.update_state([y],[logits])\n",
        "  if tf.reduce_max(logits)>0.35:\n",
        "    count+=1\n",
        "    confidence_metric.update_state([y],[logits])\n",
        "  grads=tape.gradient(loss_value,model.trainable_weights)\n",
        "  optimizer.apply_gradients(zip(grads,model.trainable_weights))\n",
        "  return logits,loss_value\n",
        "\n",
        "\n",
        "\"\"\"@tf.function\n",
        "def train_data(x,y):\n",
        "  with tf.GradientTape() as tape:\n",
        "    logits=model(x,training=True,)\n",
        "    loss_value=loss_fn(y,logits)\n",
        "\n",
        "  grads=tape.gradient(loss_value,model.trainable_weights)\n",
        "  optimizer.apply_gradients(zip(grads,model.trainable_weights))\n",
        "  return logits,loss_value\"\"\""
      ],
      "execution_count": null,
      "outputs": []
    },
    {
      "cell_type": "markdown",
      "metadata": {
        "id": "l5lYbl9nRS0K"
      },
      "source": [
        "# Other Bots Code"
      ]
    },
    {
      "cell_type": "code",
      "metadata": {
        "id": "-ztWg-ZERR9C"
      },
      "source": [
        "dlluc=\"\"\"import random\n",
        "\n",
        "numPre = 30\n",
        "numMeta = 6\n",
        "if not input:\n",
        "    limit = 8\n",
        "    beat = {'R': 'P', 'P': 'S', 'S': 'R'}\n",
        "    moves = ['', '', '', '']\n",
        "    pScore = [[5] * numPre, [5] * numPre, [5] * numPre, [5] * numPre, [5] * numPre, [5] * numPre]\n",
        "    centrifuge = {'RP': 0, 'PS': 1, 'SR': 2, 'PR': 3, 'SP': 4, 'RS': 5, 'RR': 6, 'PP': 7, 'SS': 8}\n",
        "    centripete = {'R': 0, 'P': 1, 'S': 2}\n",
        "    soma = [0, 0, 0, 0, 0, 0, 0, 0, 0];\n",
        "    rps = [1, 1, 1];\n",
        "    a = \"RPS\"\n",
        "    best = [0, 0, 0];\n",
        "    length = 0\n",
        "    p = [random.choice(\"RPS\")] * numPre\n",
        "    m = [random.choice(\"RPS\")] * numMeta\n",
        "    mScore = [5, 2, 5, 2, 4, 2]\n",
        "else:\n",
        "    for i in range(numPre):\n",
        "        pp = p[i]\n",
        "        bpp = beat[pp]\n",
        "        bbpp = beat[bpp]\n",
        "        pScore[0][i] = 0.9 * pScore[0][i] + ((input == pp) - (input == bbpp)) * 3\n",
        "        pScore[1][i] = 0.9 * pScore[1][i] + ((output == pp) - (output == bbpp)) * 3\n",
        "        pScore[2][i] = 0.87 * pScore[2][i] + (input == pp) * 3.3 - (input == bpp) * 1.2 - (input == bbpp) * 2.3\n",
        "        pScore[3][i] = 0.87 * pScore[3][i] + (output == pp) * 3.3 - (output == bpp) * 1.2 - (output == bbpp) * 2.3\n",
        "        pScore[4][i] = (pScore[4][i] + (input == pp) * 3) * (1 - (input == bbpp))\n",
        "        pScore[5][i] = (pScore[5][i] + (output == pp) * 3) * (1 - (output == bbpp))\n",
        "    for i in range(numMeta):\n",
        "        mScore[i] = 0.96 * (mScore[i] + (input == m[i]) - (input == beat[beat[m[i]]]))\n",
        "    soma[centrifuge[input + output]] += 1;\n",
        "    rps[centripete[input]] += 1;\n",
        "    moves[0] += str(centrifuge[input + output])\n",
        "    moves[1] += input\n",
        "    moves[2] += output\n",
        "    length += 1\n",
        "    for y in range(3):\n",
        "        j = min([length, limit])\n",
        "        while j >= 1 and not moves[y][length - j:length] in moves[y][0:length - 1]:\n",
        "            j -= 1\n",
        "        i = moves[y].rfind(moves[y][length - j:length], 0, length - 1)\n",
        "        p[0 + 2 * y] = moves[1][j + i]\n",
        "        p[1 + 2 * y] = beat[moves[2][j + i]]\n",
        "    j = min([length, limit])\n",
        "    while j >= 2 and not moves[0][length - j:length - 1] in moves[0][0:length - 2]:\n",
        "        j -= 1\n",
        "    i = moves[0].rfind(moves[0][length - j:length - 1], 0, length - 2)\n",
        "    if j + i >= length:\n",
        "        p[6] = p[7] = random.choice(\"RPS\")\n",
        "    else:\n",
        "        p[6] = moves[1][j + i]\n",
        "        p[7] = beat[moves[2][j + i]]\n",
        "\n",
        "    best[0] = soma[centrifuge[output + 'R']] * rps[0] / rps[centripete[output]]\n",
        "    best[1] = soma[centrifuge[output + 'P']] * rps[1] / rps[centripete[output]]\n",
        "    best[2] = soma[centrifuge[output + 'S']] * rps[2] / rps[centripete[output]]\n",
        "    p[8] = p[9] = a[best.index(max(best))]\n",
        "\n",
        "    for i in range(10, numPre):\n",
        "        p[i] = beat[beat[p[i - 10]]]\n",
        "\n",
        "    for i in range(0, numMeta, 2):\n",
        "        m[i] = p[pScore[i].index(max(pScore[i]))]\n",
        "        m[i + 1] = beat[p[pScore[i + 1].index(max(pScore[i + 1]))]]\n",
        "output = beat[m[mScore.index(max(mScore))]]\n",
        "if max(mScore) < 0.07 or random.randint(3, 40) > length:\n",
        "    output = beat[random.choice(\"RPS\")]\"\"\"\n",
        "\n",
        "ioc=\"\"\"\n",
        "#Iocaine powder based AI\n",
        "\n",
        "import random\n",
        "\n",
        "# 2 different lengths of history, 3 kinds of history, both, mine, yours\n",
        "# 3 different limit length of reverse learning\n",
        "# 6 kinds of strategy based on Iocaine Powder\n",
        "num_predictor = 27\n",
        "\n",
        "if input==\"\":\n",
        "    len_rfind = [20]\n",
        "    limit = [10,20,60]\n",
        "    beat = { \"R\":\"P\" , \"P\":\"S\", \"S\":\"R\"}\n",
        "    not_lose = { \"R\":\"PPR\" , \"P\":\"SSP\" , \"S\":\"RRS\" } #50-50 chance\n",
        "    my_his   =\"\"\n",
        "    your_his =\"\"\n",
        "    both_his =\"\"\n",
        "    list_predictor = [\"\"]*num_predictor\n",
        "    length = 0\n",
        "    temp1 = { \"PP\":\"1\" , \"PR\":\"2\" , \"PS\":\"3\",\n",
        "              \"RP\":\"4\" , \"RR\":\"5\", \"RS\":\"6\",\n",
        "              \"SP\":\"7\" , \"SR\":\"8\", \"SS\":\"9\"}\n",
        "    temp2 = { \"1\":\"PP\",\"2\":\"PR\",\"3\":\"PS\",\n",
        "                \"4\":\"RP\",\"5\":\"RR\",\"6\":\"RS\",\n",
        "                \"7\":\"SP\",\"8\":\"SR\",\"9\":\"SS\"} \n",
        "    who_win = { \"PP\": 0, \"PR\":1 , \"PS\":-1,\n",
        "                \"RP\": -1,\"RR\":0, \"RS\":1,\n",
        "                \"SP\": 1, \"SR\":-1, \"SS\":0}\n",
        "    score_predictor = [0]*num_predictor\n",
        "    output = random.choice(\"RPS\")\n",
        "    predictors = [output]*num_predictor\n",
        "else:\n",
        "    #update predictors\n",
        "    #\n",
        "    if len(list_predictor[0])<5:\n",
        "        front =0\n",
        "    else:\n",
        "        front =1\n",
        "    for i in range (num_predictor):\n",
        "        if predictors[i]==input:\n",
        "            result =\"1\"\n",
        "        else:\n",
        "            result =\"0\"\n",
        "        list_predictor[i] = list_predictor[i][front:5]+result #only 5 rounds before\n",
        "    #history matching 1-6\n",
        "    my_his += output\n",
        "    your_his += input\n",
        "    both_his += temp1[input+output]\n",
        "    length +=1\n",
        "    for i in range(1):\n",
        "        len_size = min(length,len_rfind[i])\n",
        "        j=len_size\n",
        "        #both_his\n",
        "        while j>=1 and not both_his[length-j:length] in both_his[0:length-1]:\n",
        "            j-=1\n",
        "        if j>=1:\n",
        "            k = both_his.rfind(both_his[length-j:length],0,length-1)\n",
        "            predictors[0+6*i] = your_his[j+k]\n",
        "            predictors[1+6*i] = beat[my_his[j+k]]\n",
        "        else:\n",
        "            predictors[0+6*i] = random.choice(\"RPS\")\n",
        "            predictors[1+6*i] = random.choice(\"RPS\")\n",
        "        j=len_size\n",
        "        #your_his\n",
        "        while j>=1 and not your_his[length-j:length] in your_his[0:length-1]:\n",
        "            j-=1\n",
        "        if j>=1:\n",
        "            k = your_his.rfind(your_his[length-j:length],0,length-1)\n",
        "            predictors[2+6*i] = your_his[j+k]\n",
        "            predictors[3+6*i] = beat[my_his[j+k]]\n",
        "        else:\n",
        "            predictors[2+6*i] = random.choice(\"RPS\")\n",
        "            predictors[3+6*i] = random.choice(\"RPS\")\n",
        "        j=len_size\n",
        "        #my_his\n",
        "        while j>=1 and not my_his[length-j:length] in my_his[0:length-1]:\n",
        "            j-=1\n",
        "        if j>=1:\n",
        "            k = my_his.rfind(my_his[length-j:length],0,length-1)\n",
        "            predictors[4+6*i] = your_his[j+k]\n",
        "            predictors[5+6*i] = beat[my_his[j+k]]\n",
        "        else:\n",
        "            predictors[4+6*i] = random.choice(\"RPS\")\n",
        "            predictors[5+6*i] = random.choice(\"RPS\")\n",
        "\n",
        "    for i in range(3):\n",
        "        temp =\"\"\n",
        "        search = temp1[(output+input)] #last round\n",
        "        for start in range(2, min(limit[i],length) ):\n",
        "            if search == both_his[length-start]:\n",
        "                temp+=both_his[length-start+1]\n",
        "        if(temp==\"\"):\n",
        "            predictors[6+i] = random.choice(\"RPS\")\n",
        "        else:\n",
        "            collectR = {\"P\":0,\"R\":0,\"S\":0} #take win/lose from opponent into account\n",
        "            for sdf in temp:\n",
        "                next_move = temp2[sdf]\n",
        "                if(who_win[next_move]==-1):\n",
        "                    collectR[temp2[sdf][1]]+=3\n",
        "                elif(who_win[next_move]==0):\n",
        "                    collectR[temp2[sdf][1]]+=1\n",
        "                elif(who_win[next_move]==1):\n",
        "                    collectR[beat[temp2[sdf][0]]]+=1\n",
        "            max1 = -1\n",
        "            p1 =\"\"\n",
        "            for key in collectR:\n",
        "                if(collectR[key]>max1):\n",
        "                    max1 = collectR[key]\n",
        "                    p1 += key\n",
        "            predictors[6+i] = random.choice(p1)\n",
        "    \n",
        "    #rotate 9-27:\n",
        "    for i in range(9,27):\n",
        "        predictors[i] = beat[beat[predictors[i-9]]]\n",
        "        \n",
        "    #choose a predictor\n",
        "    len_his = len(list_predictor[0])\n",
        "    for i in range(num_predictor):\n",
        "        sum = 0\n",
        "        for j in range(len_his):\n",
        "            if list_predictor[i][j]==\"1\":\n",
        "                sum+=(j+1)*(j+1)\n",
        "            else:\n",
        "                sum-=(j+1)*(j+1)\n",
        "        score_predictor[i] = sum\n",
        "    max_score = max(score_predictor)\n",
        "    #min_score = min(score_predictor)\n",
        "    #c_temp = {\"R\":0,\"P\":0,\"S\":0}\n",
        "    #for i in range (num_predictor):\n",
        "        #if score_predictor[i]==max_score:\n",
        "        #    c_temp[predictors[i]] +=1\n",
        "        #if score_predictor[i]==min_score:\n",
        "        #    c_temp[predictors[i]] -=1\n",
        "    if max_score>0:\n",
        "        predict = predictors[score_predictor.index(max_score)]\n",
        "    else:\n",
        "        predict = random.choice(your_his)\n",
        "    output = random.choice(not_lose[predict])\n",
        "\"\"\""
      ],
      "execution_count": null,
      "outputs": []
    },
    {
      "cell_type": "markdown",
      "metadata": {
        "id": "1Kk2IR2hpgDN"
      },
      "source": [
        "# Other Bots"
      ]
    },
    {
      "cell_type": "code",
      "metadata": {
        "id": "UmcX73KBHssE"
      },
      "source": [
        "class rfind:\n",
        "    def __init__(self):\n",
        "        self.dna=\"\"\n",
        "        self.combine = { 'PP': '0', \n",
        "                      'PR': '1', \n",
        "                      'PS': '2',\n",
        "                      'RP': '3',\n",
        "                      'RS': '4',\n",
        "                      'RR': '5',\n",
        "                      'SS': '6',\n",
        "                      'SP': '7',\n",
        "                      'SR': '8',}\n",
        "        self.split = {   '0':'PP', \n",
        "                      '1':'PR', \n",
        "                      '2':'PS',\n",
        "                      '3':'RP',\n",
        "                      '4':'RS',\n",
        "                      '5':'RR',\n",
        "                      '6':'SS',\n",
        "                      '7':'SP',\n",
        "                      '8':'SR',}\n",
        "        self.anti = {'P': 'S', 'R': 'P', 'S': 'R'}\n",
        "        self.output = random.choice(['R', 'P', 'S'])\n",
        "    def main(self,input):\n",
        "        self.dna\n",
        "        if self.output != \"\":\n",
        "            self.dna += self.combine[self.output + input]\n",
        "\n",
        "        for length in range(min(20, len(self.dna)-1), 0, -1):\n",
        "            search =self.dna[-length:]\n",
        "            idx =self.dna.rfind(search, 0, -1)\n",
        "            if idx != -1:\n",
        "                answered =self.dna[idx + length]\n",
        "                expected = self.split[answered][1]\n",
        "                self.output = self.anti[expected]\n",
        "                return self.output\n",
        "            else:\n",
        "                self.output = random.choice(['R', 'P', 'S'])\n",
        "        return self.output\n",
        "    \n"
      ],
      "execution_count": null,
      "outputs": []
    },
    {
      "cell_type": "code",
      "metadata": {
        "id": "sLfCJsoepWMI"
      },
      "source": [
        "class Bot:\n",
        "    \"\"\"Basic bot class to wrap bot functions\"\"\"\n",
        "    def __init__(self, name, code=None):\n",
        "        \"\"\"\n",
        "name should be a unique identifier and must be a readable\n",
        "filename if code is not specified\n",
        "\"\"\"\n",
        "        self.name = name\n",
        "        if code is None:\n",
        "            self.load_code()\n",
        "        else:\n",
        "            self.code = code\n",
        "\n",
        "        self.reset()\n",
        "\n",
        "    def __eq__(self, other):\n",
        "        return self.name == other.name\n",
        "\n",
        "    def get_move(self, input_):\n",
        "        \"\"\"Get the next move for the bot given input\n",
        "input must be \"R\", \"P\", \"S\" or \"\"\n",
        "\"\"\"\n",
        "        if self._code is None:\n",
        "            self.compile_code()\n",
        "\n",
        "        self.scope[\"input\"] = input_\n",
        "        exec(self._code, self.scope)\n",
        "        self.output = self.scope[\"output\"]\n",
        "        return self.output\n",
        "\n",
        "    def compile_code(self):\n",
        "        self._code = compile(self.code, '<string>', 'exec')\n",
        "\n",
        "    def reset(self):\n",
        "        \"\"\"Resets bot for another round.  This must be called before trying\n",
        "to pass the bot between workers, or you may see obscure errors from failures\n",
        "to pickle the bots scope dictionary.\"\"\"\n",
        "        self.scope = dict()\n",
        "\n",
        "        # this will hold compiled code, but it apparently can't be\n",
        "        # pickled? so we'll have to do it later.  XXX check into this\n",
        "        self._code = None\n",
        "\n",
        "    def load_code(self):\n",
        "        self.code = self.name\n",
        "\n",
        "dllu=Bot(dlluc)\n",
        "io2=Bot(ioc)"
      ],
      "execution_count": null,
      "outputs": []
    },
    {
      "cell_type": "markdown",
      "metadata": {
        "id": "cLpNwFvTpm49"
      },
      "source": [
        "# Main"
      ]
    },
    {
      "cell_type": "code",
      "metadata": {
        "id": "pcPPKm2aIqjQ"
      },
      "source": [
        "simple=True\n",
        "match=10\n",
        "rl=\"\"\n",
        "ll=\"\"\n",
        "hisl=[[] for _ in range(match)]\n",
        "whisl=[[] for _ in range(match)]\n",
        "mem=[[] for _ in range(match)]\n",
        "losses=[]\n",
        "for i in range(match):\n",
        "  r=rfind()\n",
        "  dllu.reset()\n",
        "  io2.reset()\n",
        "  score=0\n",
        "  rout=io2.get_move(\"\")\n",
        "  lout=random.choice(\"RPS\")\n",
        "  whis=[[]]\n",
        "  two_metric.reset_states()\n",
        "  train_metric.reset_states()\n",
        "  confidence_metric.reset_states()\n",
        "  loss=[]\n",
        "  mem=[]\n",
        "  for j in range(1000):\n",
        "    score+=1 if (l.index(lout)+3-l.index(rout))%3==1 else -1 if (l.index(lout)+3-l.index(rout))%3==2 else 0\n",
        "    \n",
        "    rl+=rout\n",
        "    ll+=lout\n",
        "\n",
        "    nrout=r.main(lout)\n",
        "    output1 = io2.get_move(lout)\n",
        "    nrout=nrout if simple else output1\n",
        "    \n",
        "    h=r.dna\n",
        "    \n",
        "    sr1=sf1()\n",
        "    sr2=sf2()\n",
        "\n",
        "    w=(l.index(nrout)+1)%3\n",
        "    whisl[i].append(w)\n",
        "   \n",
        "    \n",
        "    \"\"\"logits,loss_value=train_vs(np.array(sr1).reshape(1,27),w)\n",
        "    lout=l[np.argmax(logits)]\n",
        "    loss.append(loss_value)\"\"\"\n",
        "\n",
        "    if simple:\n",
        "      logits,loss_value=train_vs(model,np.array(sr1).reshape(1,27),w)\n",
        "      #logits,loss_value=train_vs(rmodel,np.array(sr2).reshape(1,45),w)\n",
        "      lout=l[np.argmax(logits)]\n",
        "      loss.append(loss_value)\n",
        "    else:\n",
        "      #base=rmodel(np.array(sr2).reshape(1,45),w)\n",
        "      base=nmodel(np.array(sr1).reshape(1,27))\n",
        "      mem.append(base)\n",
        "      \"\"\"base=model(np.array(sr2).reshape(1,27),w)\n",
        "      b=[0,0,0]\n",
        "      b[l.index(rout)]=1\n",
        "      last=[0,0,0]\n",
        "      last[l.index(lout)]=1\n",
        "      m=[0,0,0]\n",
        "      m[np.argmax(base)]=1\n",
        "      inp=b+last+m\n",
        "      hisl[i].append(inp)\n",
        "      if j>50:\n",
        "        logits,loss_value=train_vs(lmodel,np.array(hisl[i][-50:]).reshape(1,50,9),w)\"\"\"\n",
        "      #if j>50:\n",
        "      logits,loss_value=train_vs(lmodel,np.array(mem[-50:]).reshape(1,min(j+1,50),9),w)\n",
        "      lout=l[np.argmax(logits)]\n",
        "      loss.append(loss_value)\n",
        "      #else:\n",
        "      #  lout=l[np.argmax(base)]\n",
        "      #  if j==50:\n",
        "      #    print(score)\n",
        "    \n",
        "    if (j+1)%1000==0:\n",
        "      print(nrout,lout)\n",
        "      print(i,j+1,score,np.average(loss),float(train_metric.result())*100,float(two_metric.result()-train_metric.result())*100,float(confidence_metric.result())*100)\n",
        "      #score=0\n",
        "      losses.append(loss)\n",
        "    rout=nrout"
      ],
      "execution_count": null,
      "outputs": []
    },
    {
      "cell_type": "code",
      "metadata": {
        "colab": {
          "base_uri": "https://localhost:8080/"
        },
        "id": "Ef3YXcgCMKiR",
        "outputId": "f176d179-e282-4951-af15-139f71607e70"
      },
      "source": [
        "rmodel.save(\"rmodel.h5\")\n",
        "rmodel.save_weights(\"rweights.h5\")"
      ],
      "execution_count": null,
      "outputs": [
        {
          "name": "stdout",
          "output_type": "stream",
          "text": [
            "WARNING:tensorflow:Compiled the loaded model, but the compiled metrics have yet to be built. `model.compile_metrics` will be empty until you train or evaluate the model.\n"
          ]
        }
      ]
    },
    {
      "cell_type": "code",
      "metadata": {
        "id": "IXVFxGbz9CX8"
      },
      "source": [
        "mw=model.get_weights()\n",
        "mw"
      ],
      "execution_count": null,
      "outputs": []
    },
    {
      "cell_type": "code",
      "metadata": {
        "id": "xJw1xJyTtcQF"
      },
      "source": [
        "simple=True\n",
        "match=10\n",
        "rl=\"\"\n",
        "ll=\"\"\n",
        "hisl=[[] for _ in range(match)]\n",
        "whisl=[[] for _ in range(match)]\n",
        "mem=[[] for _ in range(match)]\n",
        "losses=[]\n",
        "for i in range(match):\n",
        "  r=rfind()\n",
        "  dllu.reset()\n",
        "  io2.reset()\n",
        "  score=0\n",
        "  rout=io2.get_move(\"\")\n",
        "  lout=random.choice(\"RPS\")\n",
        "  whis=[[]]\n",
        "  two_metric.reset_states()\n",
        "  train_metric.reset_states()\n",
        "  confidence_metric.reset_states()\n",
        "  loss=[]\n",
        "  mem=[]\n",
        "  for j in range(1000):\n",
        "    score+=1 if (l.index(lout)+3-l.index(rout))%3==1 else -1 if (l.index(lout)+3-l.index(rout))%3==2 else 0\n",
        "    \n",
        "    rl+=rout\n",
        "    ll+=lout\n",
        "\n",
        "    nrout=r.main(lout)\n",
        "    output1 = io2.get_move(lout)\n",
        "    nrout=nrout if simple else output1\n",
        "    \n",
        "    h=r.dna\n",
        "    \n",
        "    sr1=sf1()\n",
        "    sr2=sf2()\n",
        "\n",
        "    w=(l.index(nrout)+1)%3\n",
        "    whisl[i].append(w)\n",
        "   \n",
        "    \n",
        "    \"\"\"logits,loss_value=train_vs(np.array(sr1).reshape(1,27),w)\n",
        "    lout=l[np.argmax(logits)]\n",
        "    loss.append(loss_value)\"\"\"\n",
        "\n",
        "    if simple:\n",
        "      logits,loss_value=train_vs(model,np.array(sr1).reshape(1,27),w)\n",
        "      #logits,loss_value=train_vs(rmodel,np.array(sr2).reshape(1,45),w)\n",
        "      lout=l[np.argmax(logits)]\n",
        "      loss.append(loss_value)\n",
        "    else:\n",
        "      #base=rmodel(np.array(sr2).reshape(1,45),w)\n",
        "      base=nmodel(np.array(sr1).reshape(1,27))\n",
        "      mem.append(base)\n",
        "      \"\"\"base=model(np.array(sr2).reshape(1,27),w)\n",
        "      b=[0,0,0]\n",
        "      b[l.index(rout)]=1\n",
        "      last=[0,0,0]\n",
        "      last[l.index(lout)]=1\n",
        "      m=[0,0,0]\n",
        "      m[np.argmax(base)]=1\n",
        "      inp=b+last+m\n",
        "      hisl[i].append(inp)\n",
        "      if j>50:\n",
        "        logits,loss_value=train_vs(lmodel,np.array(hisl[i][-50:]).reshape(1,50,9),w)\"\"\"\n",
        "      #if j>50:\n",
        "      logits,loss_value=train_vs(lmodel,np.array(mem[-50:]).reshape(1,min(j+1,50),9),w)\n",
        "      lout=l[np.argmax(logits)]\n",
        "      loss.append(loss_value)\n",
        "      #else:\n",
        "      #  lout=l[np.argmax(base)]\n",
        "      #  if j==50:\n",
        "      #    print(score)\n",
        "    \n",
        "    if (j+1)%1000==0:\n",
        "      print(nrout,lout)\n",
        "      print(i,j+1,score,np.average(loss),float(train_metric.result())*100,float(two_metric.result()-train_metric.result())*100,float(confidence_metric.result())*100)\n",
        "      #score=0\n",
        "      losses.append(loss)\n",
        "    rout=nrout"
      ],
      "execution_count": null,
      "outputs": []
    },
    {
      "cell_type": "markdown",
      "metadata": {
        "id": "bxrR7hH0tYWD"
      },
      "source": [
        "# 新增區段"
      ]
    },
    {
      "cell_type": "code",
      "metadata": {
        "colab": {
          "base_uri": "https://localhost:8080/"
        },
        "id": "qKeAFDxgtc7_",
        "outputId": "eef3b4e7-2373-41b4-e404-fb438a8291c2"
      },
      "source": [
        "#base vs rfind\n",
        "match=20\n",
        "lossl=[]\n",
        "for i in range(match):\n",
        "  r=rfind()\n",
        "  rout=r.output\n",
        "  score=0\n",
        "  lout=random.choice(\"RPS\")\n",
        "  \n",
        "  count=0\n",
        "  loss=0\n",
        "  two_metric.reset_states()\n",
        "  train_metric.reset_states()\n",
        "  confidence_metric.reset_states()\n",
        "  for rc in range(20):\n",
        "    with tf.GradientTape() as tape:\n",
        "      for j in range(50):\n",
        "        score+=1 if (l.index(lout)+3-l.index(rout))%3==1 else -1 if (l.index(lout)+3-l.index(rout))%3==2 else 0\n",
        "        nrout=r.main(lout)\n",
        "\n",
        "        h=r.dna\n",
        "        sr1=sf1()\n",
        "        w=(l.index(nrout)+1)%3\n",
        "\n",
        "        logits=model(np.array(sr1).reshape(1,27),training=True)\n",
        "        loss_value=loss_vs(w,logits)\n",
        "        lout=l[np.argmax(logits)]\n",
        "        loss=tf.add(loss_value/50,loss)\n",
        "        rout=nrout\n",
        "\n",
        "        train_metric.update_state([w],[logits])\n",
        "        two_metric.update_state([w],[logits])\n",
        "        if tf.reduce_max(logits)>0.35:\n",
        "          count+=1\n",
        "          confidence_metric.update_state([w],[logits])\n",
        "    \n",
        "    grads=tape.gradient(loss,model.trainable_weights)\n",
        "    optimizer.apply_gradients(zip(grads,model.trainable_weights))\n",
        "  lossl.append(loss.numpy()/20)\n",
        "  print(i,(rc)*50+j+1,score,loss.numpy()/20,float(train_metric.result())*100,float(two_metric.result()-train_metric.result())*100,count,float(confidence_metric.result())*100)"
      ],
      "execution_count": null,
      "outputs": [
        {
          "output_type": "stream",
          "name": "stdout",
          "text": [
            "0 1000 423 0.9100632667541504 63.499999046325684 24.59999918937683 989 64.00404572486877\n",
            "1 1000 402 0.9277278900146484 61.19999885559082 25.0 985 61.82740926742554\n",
            "2 1000 404 0.8916275978088379 62.90000081062317 25.40000081062317 981 63.404691219329834\n",
            "3 1000 407 0.8880913734436036 62.90000081062317 25.0 989 63.29625844955444\n",
            "4 1000 417 0.8983946800231933 62.699997425079346 27.300000190734863 984 63.51625919342041\n",
            "5 1000 420 0.910454273223877 62.699997425079346 25.300002098083496 979 63.534218072891235\n",
            "6 1000 405 0.9065862655639648 62.00000047683716 25.099998712539673 979 62.921351194381714\n",
            "7 1000 435 0.8938164710998535 64.3999993801117 24.09999966621399 979 65.066397190094\n",
            "8 1000 448 0.8758986473083497 65.2999997138977 24.699997901916504 979 65.7814085483551\n",
            "9 1000 471 0.8706388473510742 65.89999794960022 24.900001287460327 982 66.49694442749023\n",
            "10 1000 460 0.861094856262207 65.49999713897705 22.700005769729614 988 65.48582911491394\n",
            "11 1000 493 0.8302860260009766 66.50000214576721 25.0 990 66.96969866752625\n",
            "12 1000 465 0.857518196105957 65.2999997138977 24.09999966621399 991 65.38849472999573\n",
            "13 1000 489 0.8404295921325684 67.59999990463257 22.79999852180481 987 67.88247227668762\n",
            "14 1000 465 0.8557498931884766 66.69999957084656 24.199998378753662 966 67.49482154846191\n",
            "15 1000 513 0.8145663261413574 68.80000233650208 21.99999690055847 990 69.09090876579285\n",
            "16 1000 505 0.8276052474975586 68.50000023841858 23.000001907348633 993 68.58006119728088\n",
            "17 1000 441 0.8485392570495606 64.70000147819519 24.09999966621399 990 64.74747657775879\n",
            "18 1000 489 0.8108832359313964 67.00000166893005 24.199998378753662 985 67.6142156124115\n",
            "19 1000 489 0.8051634788513183 68.00000071525574 22.699999809265137 993 68.17724108695984\n"
          ]
        }
      ]
    },
    {
      "cell_type": "code",
      "metadata": {
        "colab": {
          "base_uri": "https://localhost:8080/",
          "height": 283
        },
        "id": "iGGM8Tyy0kMW",
        "outputId": "0e1b1f9c-5706-447f-9a34-6c0716a76feb"
      },
      "source": [
        "plt.plot(lossl)"
      ],
      "execution_count": null,
      "outputs": [
        {
          "output_type": "execute_result",
          "data": {
            "text/plain": [
              "[<matplotlib.lines.Line2D at 0x7f1c7c3c5750>]"
            ]
          },
          "metadata": {},
          "execution_count": 36
        },
        {
          "output_type": "display_data",
          "data": {
            "image/png": "[encoded data removed]",
            "text/plain": [
              "<Figure size 432x288 with 1 Axes>"
            ]
          },
          "metadata": {
            "needs_background": "light"
          }
        }
      ]
    },
    {
      "cell_type": "code",
      "metadata": {
        "colab": {
          "base_uri": "https://localhost:8080/"
        },
        "id": "IKyHIHe03jrv",
        "outputId": "8a405360-f17f-4372-903b-bd1e9af65fe0"
      },
      "source": [
        "model.save(\"modelsave\")"
      ],
      "execution_count": null,
      "outputs": [
        {
          "output_type": "stream",
          "name": "stdout",
          "text": [
            "WARNING:tensorflow:Compiled the loaded model, but the compiled metrics have yet to be built. `model.compile_metrics` will be empty until you train or evaluate the model.\n",
            "INFO:tensorflow:Assets written to: modelsave/assets\n"
          ]
        }
      ]
    }
  ]
}